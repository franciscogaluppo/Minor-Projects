{
 "cells": [
  {
   "cell_type": "code",
   "execution_count": 3,
   "metadata": {},
   "outputs": [
    {
     "name": "stdout",
     "output_type": "stream",
     "text": [
      "Using Python-MIP package version 1.6.6\n"
     ]
    }
   ],
   "source": [
    "from mip import *\n",
    "import numpy as np\n",
    "import pandas as pd"
   ]
  },
  {
   "cell_type": "code",
   "execution_count": 4,
   "metadata": {},
   "outputs": [],
   "source": [
    "xls = pd.ExcelFile('Data/estimativa_dou_2019.ods', engine=\"odf\")"
   ]
  },
  {
   "cell_type": "code",
   "execution_count": 7,
   "metadata": {},
   "outputs": [],
   "source": [
    "pop = pd.read_excel(xls, 1, header=1).loc[:5569][[\"UF\", \"NOME DO MUNICÍPIO\", \"POPULAÇÃO ESTIMADA\"]]\n",
    "pop.columns = [\"fu\", \"name\", \"population\"]"
   ]
  },
  {
   "cell_type": "code",
   "execution_count": 8,
   "metadata": {},
   "outputs": [
    {
     "data": {
      "text/html": [
       "<div>\n",
       "<style scoped>\n",
       "    .dataframe tbody tr th:only-of-type {\n",
       "        vertical-align: middle;\n",
       "    }\n",
       "\n",
       "    .dataframe tbody tr th {\n",
       "        vertical-align: top;\n",
       "    }\n",
       "\n",
       "    .dataframe thead th {\n",
       "        text-align: right;\n",
       "    }\n",
       "</style>\n",
       "<table border=\"1\" class=\"dataframe\">\n",
       "  <thead>\n",
       "    <tr style=\"text-align: right;\">\n",
       "      <th></th>\n",
       "      <th>fu</th>\n",
       "      <th>name</th>\n",
       "      <th>population</th>\n",
       "    </tr>\n",
       "  </thead>\n",
       "  <tbody>\n",
       "    <tr>\n",
       "      <th>0</th>\n",
       "      <td>RO</td>\n",
       "      <td>Alta Floresta D'Oeste</td>\n",
       "      <td>22945</td>\n",
       "    </tr>\n",
       "    <tr>\n",
       "      <th>1</th>\n",
       "      <td>RO</td>\n",
       "      <td>Ariquemes</td>\n",
       "      <td>107863</td>\n",
       "    </tr>\n",
       "    <tr>\n",
       "      <th>2</th>\n",
       "      <td>RO</td>\n",
       "      <td>Cabixi</td>\n",
       "      <td>5312</td>\n",
       "    </tr>\n",
       "    <tr>\n",
       "      <th>3</th>\n",
       "      <td>RO</td>\n",
       "      <td>Cacoal</td>\n",
       "      <td>85359</td>\n",
       "    </tr>\n",
       "    <tr>\n",
       "      <th>4</th>\n",
       "      <td>RO</td>\n",
       "      <td>Cerejeiras</td>\n",
       "      <td>16323</td>\n",
       "    </tr>\n",
       "    <tr>\n",
       "      <th>...</th>\n",
       "      <td>...</td>\n",
       "      <td>...</td>\n",
       "      <td>...</td>\n",
       "    </tr>\n",
       "    <tr>\n",
       "      <th>5565</th>\n",
       "      <td>GO</td>\n",
       "      <td>Vianópolis</td>\n",
       "      <td>13863</td>\n",
       "    </tr>\n",
       "    <tr>\n",
       "      <th>5566</th>\n",
       "      <td>GO</td>\n",
       "      <td>Vicentinópolis</td>\n",
       "      <td>8743</td>\n",
       "    </tr>\n",
       "    <tr>\n",
       "      <th>5567</th>\n",
       "      <td>GO</td>\n",
       "      <td>Vila Boa</td>\n",
       "      <td>6171</td>\n",
       "    </tr>\n",
       "    <tr>\n",
       "      <th>5568</th>\n",
       "      <td>GO</td>\n",
       "      <td>Vila Propício</td>\n",
       "      <td>5821</td>\n",
       "    </tr>\n",
       "    <tr>\n",
       "      <th>5569</th>\n",
       "      <td>DF</td>\n",
       "      <td>Brasília</td>\n",
       "      <td>3015268</td>\n",
       "    </tr>\n",
       "  </tbody>\n",
       "</table>\n",
       "<p>5570 rows × 3 columns</p>\n",
       "</div>"
      ],
      "text/plain": [
       "      fu                   name population\n",
       "0     RO  Alta Floresta D'Oeste      22945\n",
       "1     RO              Ariquemes     107863\n",
       "2     RO                 Cabixi       5312\n",
       "3     RO                 Cacoal      85359\n",
       "4     RO             Cerejeiras      16323\n",
       "...   ..                    ...        ...\n",
       "5565  GO             Vianópolis      13863\n",
       "5566  GO         Vicentinópolis       8743\n",
       "5567  GO               Vila Boa       6171\n",
       "5568  GO          Vila Propício       5821\n",
       "5569  DF               Brasília    3015268\n",
       "\n",
       "[5570 rows x 3 columns]"
      ]
     },
     "execution_count": 8,
     "metadata": {},
     "output_type": "execute_result"
    }
   ],
   "source": [
    "pop"
   ]
  },
  {
   "cell_type": "code",
   "execution_count": null,
   "metadata": {},
   "outputs": [],
   "source": []
  }
 ],
 "metadata": {
  "kernelspec": {
   "display_name": "Python 3",
   "language": "python",
   "name": "python3"
  },
  "language_info": {
   "codemirror_mode": {
    "name": "ipython",
    "version": 3
   },
   "file_extension": ".py",
   "mimetype": "text/x-python",
   "name": "python",
   "nbconvert_exporter": "python",
   "pygments_lexer": "ipython3",
   "version": "3.6.7"
  }
 },
 "nbformat": 4,
 "nbformat_minor": 2
}
