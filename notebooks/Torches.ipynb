{
 "cells": [
  {
   "cell_type": "markdown",
   "metadata": {},
   "source": [
    "# Torches\n",
    "\n",
    "New MIP challange! Suppose I have a (n,m) grid. I wish to light every single cell of it. How it works:\n",
    "\n",
    " 1. If a giving cell has a torch, then it has maximum brightness;\n",
    " 2. otherwise, its brightness is its maximum neighbor brightness minus 1. A neighbor cell is a cell that shares edges.\n",
    " 3. No cell can have brightness below the minimum required.\n",
    " 4. There are non-transparent blocks in the way.\n",
    " 5. **FIND THE MINIMUM NUMBER OF TORCHES REQUIRED**."
   ]
  },
  {
   "cell_type": "code",
   "execution_count": 1,
   "metadata": {},
   "outputs": [
    {
     "name": "stdout",
     "output_type": "stream",
     "text": [
      "Using Python-MIP package version 1.6.7\n"
     ]
    },
    {
     "name": "stderr",
     "output_type": "stream",
     "text": [
      "/opt/local/lib/pypy3/lib-python/3/importlib/_bootstrap.py:219: UserWarning: builtins.type size changed, may indicate binary incompatibility. Expected 872, got 416\n",
      "  return f(*args, **kwds)\n"
     ]
    }
   ],
   "source": [
    "from mip import *\n",
    "import numpy as np\n",
    "import matplotlib.pyplot as plt"
   ]
  },
  {
   "cell_type": "markdown",
   "metadata": {},
   "source": [
    "This solution has two steps:\n",
    " 1. **Find the maximum neighbor brightness**: first, you need an upper bound to this value (which is obviously the max value); then you can use binary variables to specify which neighbor has the maximum. [[1]](https://math.stackexchange.com/a/3568461)\n",
    " 2. **If-Then-Else**: this one is trickier, but works using lower and upper bound and two-sided restrictions. [[2]](https://math.stackexchange.com/a/2501007)"
   ]
  },
  {
   "cell_type": "code",
   "execution_count": 2,
   "metadata": {},
   "outputs": [],
   "source": [
    "def neighs(i, j, n, m):\n",
    "    x = list()\n",
    "    \n",
    "    if i > 0:\n",
    "        x.append((i-1, j))\n",
    "    if i < (n-1):\n",
    "        x.append((i+1, j))\n",
    "    if j > 0:\n",
    "        x.append((i, j-1))\n",
    "    if j < (m-1):\n",
    "        x.append((i, j+1))\n",
    "        \n",
    "    return x"
   ]
  },
  {
   "cell_type": "code",
   "execution_count": 3,
   "metadata": {},
   "outputs": [],
   "source": [
    "def torches(rows, cols, minv, maxv, blocks=[], verbose=True):\n",
    "    m = Model()\n",
    "    possibilities = [(i,j) for i in range(rows) for j in range(cols) if (i,j) not in blocks]\n",
    "    nn = {(i,j): [x for x in neighs(i, j, rows, cols) if x not in blocks] for i,j in possibilities}\n",
    "\n",
    "    level = {k: m.add_var(var_type=INTEGER, lb=minv, ub=maxv) for k in possibilities}\n",
    "    torch = {k: m.add_var(var_type=BINARY) for k in possibilities}\n",
    "    max_neighbor = {k: m.add_var(var_type=INTEGER, lb=minv, ub=maxv) for k in possibilities}\n",
    "    which_neighbor = {(i,j,k): m.add_var(var_type=BINARY) for i,j in possibilities for k in range(len(nn[(i,j)]))}\n",
    "    sol = m.add_var(lb=1)\n",
    "      \n",
    "    # Find max neighbor\n",
    "    for i,j in possibilities:        \n",
    "        for k in range(len(nn[(i,j)])):\n",
    "            a, b = nn[(i,j)][k]\n",
    "            m += max_neighbor[(i,j)] >= level[(a,b)]\n",
    "            m += max_neighbor[(i,j)] <= level[(a,b)] + (1 - which_neighbor[(i,j,k)])*maxv\n",
    "        m += xsum(which_neighbor[(i,j,k)] for k in range(len(nn[(i,j)]))) == 1\n",
    "            \n",
    "    # If then else\n",
    "    for k in possibilities:\n",
    "        m += level[k] - max_neighbor[k] + 1 >= 0\n",
    "        m += level[k] - max_neighbor[k] + 1 <= 2 * torch[k]\n",
    "        m += maxv - level[k] >= 0\n",
    "        m += maxv - level[k] <= (1 - torch[k])*(maxv-minv)\n",
    "    \n",
    "    # Solution\n",
    "    m += sol == xsum(torch[k] for k in possibilities)\n",
    "    m.objective = sol\n",
    "\n",
    "    greedy_sol = greedy(rows, cols, minv, maxv, blocks)\n",
    "    m.start = [(m.vars[x], greedy_sol[x]) for x in range(len(greedy_sol))]\n",
    "    \n",
    "    m.emphasis = 2\n",
    "    m.cuts = 3\n",
    "    m.max_seconds = 900\n",
    "\n",
    "    status = m.optimize()\n",
    "    \n",
    "    if verbose:\n",
    "        if status == OptimizationStatus.OPTIMAL:\n",
    "            print('optimal solution cost {} found'.format(m.objective_value))\n",
    "        elif status == OptimizationStatus.FEASIBLE:\n",
    "            print('sol.cost {} found, best possible: {}'.format(m.objective_value, m.objective_bound))\n",
    "        elif status == OptimizationStatus.NO_SOLUTION_FOUND:\n",
    "            print('no feasible solution found, lower bound is: {}'.format(m.objective_bound))\n",
    "        elif status == OptimizationStatus.INFEASIBLE:\n",
    "            print('INFEASIBLE'.format(m.objective_bound))\n",
    "    return m"
   ]
  },
  {
   "cell_type": "markdown",
   "metadata": {},
   "source": [
    "Initial solutions improve considerably the running time of MIP models, so I decided to implement a simple greedy algorithm:\n",
    "\n",
    " 1. Choose a cell such that its brightness is less than the minimum value;\n",
    " 2. Updates the grid brightness;\n",
    " 3. Repeat until there is no cell available."
   ]
  },
  {
   "cell_type": "code",
   "execution_count": 4,
   "metadata": {},
   "outputs": [],
   "source": [
    "def greedy(rows, cols, minv, maxv, blocks):\n",
    "    possibilities = [(i,j) for i in range(rows) for j in range(cols) if (i,j) not in blocks]\n",
    "    nn = {(i,j): [x for x in neighs(i, j, rows, cols) if x not in blocks] for i,j in possibilities}\n",
    "\n",
    "    init = lambda : {k:0 for k in possibilities}\n",
    "    level = init()\n",
    "    torch = init()\n",
    "    remains = set(k for k in possibilities if level[k] <= minv)\n",
    "\n",
    "    def update(k):\n",
    "        if level[k] > minv:\n",
    "            for l in nn[k]:\n",
    "                if level[l] < level[k]:\n",
    "                    level[l] = level[k] - 1\n",
    "                    if l in remains:\n",
    "                        remains.remove(l)\n",
    "                    update(l)\n",
    "\n",
    "    while len(remains) > 0:\n",
    "        k = remains.pop()\n",
    "        torch[k] = True\n",
    "        level[k] = maxv\n",
    "        update(k)\n",
    "\n",
    "    sol = list()\n",
    "    for k in possibilities:\n",
    "        sol.append(level[k])\n",
    "    for k in possibilities:\n",
    "        sol.append(torch[k])\n",
    "\n",
    "    maxes = {k:[level[l] for l in nn[k]] for k in nn}\n",
    "    for k in possibilities:\n",
    "        sol.append(max(maxes[k]))\n",
    "    for k in possibilities:\n",
    "        val = maxes[k]\n",
    "        aux = [0 for l in nn[k]]\n",
    "        aux[val.index(max(val))] = 1\n",
    "        sol += aux\n",
    "\n",
    "    obj = 0\n",
    "    for k in possibilities:\n",
    "        if torch[k] == 1:\n",
    "            obj += 1\n",
    "    sol.append(obj)\n",
    "\n",
    "    return sol"
   ]
  },
  {
   "cell_type": "markdown",
   "metadata": {},
   "source": [
    "For sake of illustration, we can plot the grid using our model solution. We'll use two plots: the first showing where are the torches; the second showing the brightness levels."
   ]
  },
  {
   "cell_type": "code",
   "execution_count": 5,
   "metadata": {},
   "outputs": [],
   "source": [
    "def plot(m, rows, cols, blocks):\n",
    "    A = np.zeros((rows,cols))\n",
    "    B = np.zeros((rows,cols))\n",
    "    const = rows*cols-len(blocks)\n",
    "    \n",
    "    ind = 0\n",
    "    ptr = 0\n",
    "    while ind < rows*cols:\n",
    "        i = ind // cols\n",
    "        j = ind % cols\n",
    "    \n",
    "        if (i,j) in blocks:\n",
    "            A[i][j] = -1\n",
    "            B[i][j] = 0\n",
    "            \n",
    "        else:\n",
    "            A[i][j] = m.vars[ptr+const].x\n",
    "            B[i][j] = m.vars[ptr].x\n",
    "            ptr += 1\n",
    "            \n",
    "        ind += 1\n",
    "        \n",
    "    fig, axes = plt.subplots(nrows=1, ncols=2, figsize=(14,7))\n",
    "    axes[0].imshow(A)\n",
    "    axes[0].set_title(\"Torches\")\n",
    "\n",
    "    axes[1].imshow(B)\n",
    "    plt.title(\"Lights\")\n",
    "    \n",
    "    for i in range(rows):\n",
    "        for j in range(cols):\n",
    "            if (i,j) not in blocks:\n",
    "                text = axes[1].text(j, i, int(B[i][j]), ha=\"center\", va=\"center\", color=\"w\")\n",
    "    \n",
    "    plt.show()"
   ]
  },
  {
   "cell_type": "markdown",
   "metadata": {},
   "source": [
    "Testing time! I will use random blocks to exemplify, so check the function below. It chooses (most of the time) the desired number of cells to be blocks, ensuring that no single empty cell has only blocks as its neighbors.\n",
    "\n",
    "Let's run our model for 10 minutes to check if it improves our greedy solution:"
   ]
  },
  {
   "cell_type": "code",
   "execution_count": 6,
   "metadata": {},
   "outputs": [],
   "source": [
    "def random_blocks(n, rows, cols):\n",
    "    blocks = set()\n",
    "    fix = list()\n",
    "    base = [(i,j) for i in range(rows) for j in range(cols)]\n",
    "    nn = {(i,j): neighs(i, j, rows, cols) for i,j in base}\n",
    "\n",
    "    while len(blocks) < n or len(fix) > 0:\n",
    "        blocks.add((np.random.randint(rows), np.random.randint(cols)))\n",
    "        fix = [k for k in base if len([x for x in nn[k] if x not in blocks]) == 0 and k not in blocks]\n",
    "        for k in fix:\n",
    "            blocks.add(k)\n",
    "            \n",
    "    return blocks"
   ]
  },
  {
   "cell_type": "code",
   "execution_count": 7,
   "metadata": {},
   "outputs": [
    {
     "name": "stdout",
     "output_type": "stream",
     "text": [
      "Actual number of blocks: 100\n",
      "Greedy solution cost: 24\n"
     ]
    }
   ],
   "source": [
    "rows, cols = 20, 20\n",
    "minv, maxv = 8, 14\n",
    "nblocks = 100\n",
    "blocks = random_blocks(nblocks, rows, cols)\n",
    "print(\"Actual number of blocks:\", len(blocks))\n",
    "print(\"Greedy solution cost:\", greedy(rows, cols, minv, maxv, blocks)[-1])"
   ]
  },
  {
   "cell_type": "code",
   "execution_count": 8,
   "metadata": {},
   "outputs": [
    {
     "name": "stdout",
     "output_type": "stream",
     "text": [
      "optimal solution cost 15.0 found\n"
     ]
    },
    {
     "data": {
      "image/png": "[encoded data removed]",
      "text/plain": [
       "<Figure size 1008x504 with 2 Axes>"
      ]
     },
     "metadata": {
      "needs_background": "light"
     },
     "output_type": "display_data"
    }
   ],
   "source": [
    "m = torches(rows, cols, minv, maxv, blocks)\n",
    "plot(m, rows, cols, blocks)"
   ]
  },
  {
   "cell_type": "markdown",
   "metadata": {},
   "source": [
    "And it did!"
   ]
  }
 ],
 "metadata": {
  "kernelspec": {
   "display_name": "PyPy3",
   "language": "pypy3",
   "name": "pypy3"
  },
  "language_info": {
   "codemirror_mode": {
    "name": "ipython",
    "version": 3
   },
   "file_extension": ".py",
   "mimetype": "text/x-python",
   "name": "python",
   "nbconvert_exporter": "python",
   "pygments_lexer": "ipython3",
   "version": "3.6.9"
  }
 },
 "nbformat": 4,
 "nbformat_minor": 4
}
