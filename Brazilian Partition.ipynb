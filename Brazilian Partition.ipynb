{
 "cells": [
  {
   "cell_type": "markdown",
   "metadata": {},
   "source": [
    "# Brazilian Partition\n",
    "\n",
    "TO DIVIDE BRAZILIAN MUNICIPALITIES BY POPULATION"
   ]
  },
  {
   "cell_type": "code",
   "execution_count": null,
   "metadata": {},
   "outputs": [],
   "source": [
    "from mip import *\n",
    "\n",
    "import re\n",
    "import numpy as np\n",
    "import pandas as pd\n",
    "import geopandas as gpd\n",
    "import networkx as nx\n",
    "import matplotlib.pyplot as plt\n",
    "import itertools"
   ]
  },
  {
   "cell_type": "markdown",
   "metadata": {},
   "source": [
    "### DATA\n",
    "\n",
    "Map data"
   ]
  },
  {
   "cell_type": "code",
   "execution_count": null,
   "metadata": {},
   "outputs": [],
   "source": [
    "gdf = gpd.read_file(\"Data/br_municipios_2018/BRMUE250GC_SIR.shp\")\n",
    "gdf = gdf.drop(gdf[(gdf[\"CD_GEOCMU\"] == \"4300001\") | (gdf[\"CD_GEOCMU\"] == \"4300002\")].index)\n",
    "gdf = gdf.drop(gdf[(gdf[\"CD_GEOCMU\"] == \"2605459\") | (gdf[\"CD_GEOCMU\"] == \"3520400\")].index)\n",
    "gdf = gdf.set_index(\"CD_GEOCMU\")\n",
    "gdf.head()"
   ]
  },
  {
   "cell_type": "markdown",
   "metadata": {},
   "source": [
    "Population data"
   ]
  },
  {
   "cell_type": "code",
   "execution_count": null,
   "metadata": {},
   "outputs": [],
   "source": [
    "xls = pd.ExcelFile('Data/estimativa_dou_2019.ods', engine=\"odf\")"
   ]
  },
  {
   "cell_type": "code",
   "execution_count": null,
   "metadata": {},
   "outputs": [],
   "source": [
    "pop = pd.read_excel(xls, 1, header=1).loc[:5569]\n",
    "pop[\"CD_GEOCMU\"] = pop[['COD. UF', 'COD. MUNIC']].apply(lambda x: str(int(x[0])) + str(int(x[1])).zfill(5), axis=1)\n",
    "\n",
    "pop = pop[[\"CD_GEOCMU\", \"POPULAÇÃO ESTIMADA\"]]\n",
    "pop.columns = [\"CD_GEOCMU\", \"POP\"]\n",
    "\n",
    "pop[\"POP\"] = pop[\"POP\"].apply(lambda x: int(re.sub(r'\\([^)]*\\)', '', str(x)).replace(\".\",\"\")))\n",
    "pop = pop.drop(pop[(pop[\"CD_GEOCMU\"] == \"2605459\") | (pop[\"CD_GEOCMU\"] == \"3520400\")].index)\n",
    "\n",
    "pop = pop.set_index(\"CD_GEOCMU\")\n",
    "pop = pop.reindex(gdf.index)\n",
    "\n",
    "pop.head()"
   ]
  },
  {
   "cell_type": "markdown",
   "metadata": {},
   "source": [
    "Graph data"
   ]
  },
  {
   "cell_type": "code",
   "execution_count": null,
   "metadata": {},
   "outputs": [],
   "source": [
    "g = nx.read_gml(\"Data/Brazil.gml\")\n",
    "print(nx.info(g))"
   ]
  },
  {
   "cell_type": "markdown",
   "metadata": {},
   "source": [
    "Constants"
   ]
  },
  {
   "cell_type": "code",
   "execution_count": null,
   "metadata": {},
   "outputs": [],
   "source": [
    "vals = pop[\"POP\"].map(int).values.tolist()\n",
    "pop_total = sum(vals)\n",
    "cities = len(vals)\n",
    "idx = gdf.index"
   ]
  },
  {
   "cell_type": "markdown",
   "metadata": {},
   "source": [
    "Fake Constants"
   ]
  },
  {
   "cell_type": "code",
   "execution_count": null,
   "metadata": {},
   "outputs": [],
   "source": [
    "cities = 25\n",
    "\n",
    "codes = dict()\n",
    "for i in range(cities):\n",
    "    codes[i] = str(i)+\"!\"\n",
    "idx = pd.Index([codes[i] for i in range(cities)])\n",
    "\n",
    "g = nx.gnp_random_graph(cities, 5.7651/(cities-1))\n",
    "g = nx.barbell_graph(int(.4*cities), cities-2*int(.4*cities))\n",
    "g = nx.relabel_nodes(g, codes)\n",
    "\n",
    "vals = np.round(np.random.normal(1000, 40, cities),0).tolist()\n",
    "pop_total = sum(vals)"
   ]
  },
  {
   "cell_type": "markdown",
   "metadata": {},
   "source": [
    "### A SINGLE CONNECTED REGION\n",
    "\n",
    "[Connectivity](https://www.cc.gatech.edu/~bdilkina/papers/CPAIOR2010_dilkina.pdf)"
   ]
  },
  {
   "cell_type": "code",
   "execution_count": null,
   "metadata": {},
   "outputs": [],
   "source": [
    "def set_connected(seed=None):\n",
    "    edges = list(g.edges)\n",
    "    A = edges + [e[::-1] for e in edges]\n",
    "    N = g.number_of_nodes()\n",
    "    \n",
    "    if seed == None:\n",
    "        seed = idx.get_loc(\"3550308\")\n",
    "    \n",
    "    m = Model()\n",
    "    \n",
    "    x = [m.add_var(var_type=BINARY) for j in range(cities)]\n",
    "    x0 = m.add_var(ub=N) \n",
    "    y = [m.add_var() for e in A]\n",
    "    y0 = m.add_var()\n",
    "    abs_diff = m.add_var()\n",
    "\n",
    "    \n",
    "    m += x0 + y0 == N\n",
    "\n",
    "    \n",
    "    for e in range(len(A)):\n",
    "        m += y[e] <= N*x[idx.get_loc(A[e][1])]\n",
    "    y0 <= N*x[seed]\n",
    "\n",
    "    \n",
    "    for j in range(1, cities):\n",
    "        m += xsum(y[e] for e in range(len(A)) if idx.get_loc(A[e][1])==j)\\\n",
    "            == x[j] + xsum(y[e] for e in range(len(A)) if idx.get_loc(A[e][0])==j) \n",
    "    m += xsum(y[e] for e in range(len(A))if idx.get_loc(A[e][1])==seed) + y0\\\n",
    "        == x[seed] + xsum(y[e] for e in range(len(A)) if idx.get_loc(A[e][0])==seed)\n",
    "\n",
    "    \n",
    "    m += xsum(x[j] for j in range(cities)) == y0\n",
    "\n",
    "    \n",
    "    expected = int(round(pop_total / 2,0))\n",
    "    m += xsum(x[j]*vals[j] for j in range(cities)) - expected <= abs_diff\n",
    "    m += expected - xsum(x[j]*vals[j] for j in range(cities)) <= abs_diff\n",
    "\n",
    "    m.objective = abs_diff\n",
    "    \n",
    "    print(\"Model set.\")\n",
    "    return m"
   ]
  },
  {
   "cell_type": "markdown",
   "metadata": {},
   "source": [
    "### CONNECTED REGIONS"
   ]
  },
  {
   "cell_type": "code",
   "execution_count": null,
   "metadata": {},
   "outputs": [],
   "source": [
    "def set_regions(n=2, seed=None):\n",
    "    edges = list(g.edges)\n",
    "    A = edges + [e[::-1] for e in edges]\n",
    "    N = g.number_of_nodes()\n",
    "    if seed == None and n < 4:\n",
    "        seed = [idx.get_loc(x) for x in [\"4305439\", \"1400704\", \"2408953\", \"3106200\"]][:n]\n",
    "    \n",
    "    m = Model()\n",
    "    \n",
    "    x = [[m.add_var(var_type=BINARY) for j in range(cities)] for i in range(n)]\n",
    "    x0 = [m.add_var(ub=N) for i in range(n)]\n",
    "    y = [[m.add_var() for e in A] for i in range(n)]\n",
    "    y0 = [m.add_var() for i in range(n)]\n",
    "    abs_diff = [m.add_var() for i in range(n)]\n",
    "\n",
    "    # Cada cidade tem uma, e somente uma, cor\n",
    "    for j in range(cities):\n",
    "        m += xsum(x[i][j] for i in range(n)) == 1\n",
    "    \n",
    "    for i in range(n):\n",
    "        # Residual mais injetado é N\n",
    "        m += x0[i] + y0[i] == N\n",
    "        \n",
    "        # Se tem fluxo nesta aresta, então o vértices está presente\n",
    "        for e in range(len(A)):\n",
    "            m += y[i][e] <= N*x[i][idx.get_loc(A[e][1])]\n",
    "        y0[i] <= N*x[i][seed[i]]    \n",
    "            \n",
    "        # Fluxo que entra é o fluxo que sai mais o gasto pelo vértice\n",
    "        for j in [k for k in range(cities) if k != seed[i]]:\n",
    "            m += xsum(y[i][e] for e in range(len(A)) if idx.get_loc(A[e][1])==j)\\\n",
    "                == x[i][j] + xsum(y[i][e] for e in range(len(A)) if idx.get_loc(A[e][0])==j) \n",
    "        m += xsum(y[i][e] for e in range(len(A)) if idx.get_loc(A[e][1])==seed[i]) + y0[i]\\\n",
    "                == x[i][seed[i]] + xsum(y[i][e] for e in range(len(A)) if idx.get_loc(A[e][0])==seed[i]) \n",
    "        \n",
    "        # Fluxo absorvido é o injetado\n",
    "        m += xsum(x[i][j] for j in range(cities)) == y0[i]\n",
    "    \n",
    "    \n",
    "    expected = int(round(pop_total / n,0))\n",
    "    for i in range(n):\n",
    "        m += xsum(x[i][j]*vals[j] for j in range(cities)) - expected <= abs_diff[i]\n",
    "        m += expected - xsum(x[i][j]*vals[j] for j in range(cities)) <= abs_diff[i]\n",
    "\n",
    "    m.objective = xsum(abs_diff)\n",
    "    \n",
    "    print(\"Model set.\")\n",
    "    return m"
   ]
  },
  {
   "cell_type": "markdown",
   "metadata": {},
   "source": [
    "### MINIMIZES EDGES BETWEEN REGIONS"
   ]
  },
  {
   "cell_type": "code",
   "execution_count": null,
   "metadata": {},
   "outputs": [],
   "source": [
    "def set_regions(n=2, coef=0.01, seed=None):\n",
    "    edges = list(g.edges)\n",
    "    A = edges + [e[::-1] for e in edges]\n",
    "    N = g.number_of_nodes()\n",
    "    C = list(itertools.combinations(range(n), 2))\n",
    "    if seed == None and n < 4:\n",
    "        seed = [idx.get_loc(x) for x in [\"4305439\", \"1400704\", \"2408953\", \"3106200\"]][:n]\n",
    "    \n",
    "    m = Model()\n",
    "    \n",
    "    x = [[m.add_var(var_type=BINARY) for j in range(cities)] for i in range(n)]\n",
    "    x0 = [m.add_var(ub=N) for i in range(n)]\n",
    "    y = [[m.add_var() for e in A] for i in range(n)]\n",
    "    y0 = [m.add_var() for i in range(n)]\n",
    "    c = [m.add_var() for ii in C]\n",
    "\n",
    "    # Cada cidade tem uma, e somente uma, cor\n",
    "    for j in range(cities):\n",
    "        m += xsum(x[i][j] for i in range(n)) == 1\n",
    "    \n",
    "    for i in range(n):\n",
    "        # Residual mais injetado é N\n",
    "        m += x0[i] + y0[i] == N\n",
    "        \n",
    "        # Se tem fluxo nesta aresta, então o vértices está presente\n",
    "        for e in range(len(A)):\n",
    "            m += y[i][e] <= N*x[i][idx.get_loc(A[e][1])]\n",
    "        y0[i] <= N*x[i][seed[i]]    \n",
    "            \n",
    "        # Fluxo que entra é o fluxo que sai mais o gasto pelo vértice\n",
    "        for j in [k for k in range(cities) if k != seed[i]]:\n",
    "            m += xsum(y[i][e] for e in range(len(A)) if idx.get_loc(A[e][1])==j)\\\n",
    "                == x[i][j] + xsum(y[i][e] for e in range(len(A)) if idx.get_loc(A[e][0])==j) \n",
    "        m += xsum(y[i][e] for e in range(len(A)) if idx.get_loc(A[e][1])==seed[i]) + y0[i]\\\n",
    "                == x[i][seed[i]] + xsum(y[i][e] for e in range(len(A)) if idx.get_loc(A[e][0])==seed[i]) \n",
    "        \n",
    "        # Fluxo absorvido é o injetado\n",
    "        m += xsum(x[i][j] for j in range(cities)) == y0[i]\n",
    "    \n",
    "    # População dentro da margem\n",
    "    expected = pop_total / n\n",
    "    for i in range(n):\n",
    "        m += xsum(x[i][j]*vals[j] for j in range(cities)) <= expected * (1+coef)\n",
    "        m += xsum(x[i][j]*vals[j] for j in range(cities)) >= expected * (1-coef)\n",
    "        \n",
    "    # ARESTAS ENTRE GRUPOS ??\n",
    "    for ii in range(len(C)):\n",
    "        i1 = c[ii][0]\n",
    "        i2 = c[ii][1]\n",
    "        m += xsum(x[i1][] + x[i2][] for e in edges) - len(edges) == c[ii]\n",
    "            \n",
    "    m.objective = xsum(c)\n",
    "    \n",
    "    print(\"Model set.\")\n",
    "    return m"
   ]
  },
  {
   "cell_type": "markdown",
   "metadata": {},
   "source": [
    "### AUXILIARY FUNCTIONS\n",
    "\n",
    "Solve function solves"
   ]
  },
  {
   "cell_type": "code",
   "execution_count": null,
   "metadata": {},
   "outputs": [],
   "source": [
    "def solve(m, verbose=True):\n",
    "    m.max_gap = 0.01\n",
    "    m.emphasis = 1\n",
    "    status = m.optimize()\n",
    "    if verbose:\n",
    "        if status == OptimizationStatus.OPTIMAL:\n",
    "            print('optimal solution cost {} found'.format(m.objective_value))\n",
    "        elif status == OptimizationStatus.FEASIBLE:\n",
    "            print('sol.cost {} found, best possible: {}'.format(m.objective_value, m.objective_bound))\n",
    "        elif status == OptimizationStatus.NO_SOLUTION_FOUND:\n",
    "            print('no feasible solution found, lower bound is: {}'.format(m.objective_bound))\n",
    "        elif status == OptimizationStatus.INFEASIBLE:\n",
    "            print('INFEASIBLE'.format(m.objective_bound))\n",
    "    return m"
   ]
  },
  {
   "cell_type": "markdown",
   "metadata": {},
   "source": [
    "Plot function"
   ]
  },
  {
   "cell_type": "code",
   "execution_count": null,
   "metadata": {},
   "outputs": [],
   "source": [
    "def plot_map(colors):\n",
    "    gdf[\"colors\"] = colors\n",
    "    \n",
    "    fig, ax = plt.subplots(1, 1)\n",
    "    ax.axis('off')\n",
    "    fig.set_size_inches(20, 20)\n",
    "    gdf.plot(column=\"colors\", ax=ax, cmap='Accent')\n",
    "    plt.show()"
   ]
  },
  {
   "cell_type": "markdown",
   "metadata": {},
   "source": [
    "Get the color numbers from the MIP"
   ]
  },
  {
   "cell_type": "code",
   "execution_count": null,
   "metadata": {},
   "outputs": [],
   "source": [
    "def get_colors_connected(m):\n",
    "    dum = list()\n",
    "    lw = 0\n",
    "    up = cities\n",
    "\n",
    "    return [j.x for j in m.vars[lw:up]]"
   ]
  },
  {
   "cell_type": "markdown",
   "metadata": {},
   "source": [
    "Get the color numbers from the MIP"
   ]
  },
  {
   "cell_type": "code",
   "execution_count": null,
   "metadata": {},
   "outputs": [],
   "source": [
    "def get_colors_regions(m, n=2):\n",
    "    dum = list()\n",
    "    lw = 0\n",
    "    up = cities\n",
    "    \n",
    "    for i in range(n):\n",
    "        dum.append([j.x for j in m.vars[lw:up]])\n",
    "        lw += cities\n",
    "        up += cities\n",
    "    \n",
    "    a = np.transpose(np.array(dum))\n",
    "    return [np.where(r==1)[0][0] for r in a]"
   ]
  },
  {
   "cell_type": "markdown",
   "metadata": {},
   "source": [
    "### RESULTS\n",
    "\n",
    "Set seeds"
   ]
  },
  {
   "cell_type": "code",
   "execution_count": null,
   "metadata": {},
   "outputs": [],
   "source": [
    "seed = [0, 100, 240]"
   ]
  },
  {
   "cell_type": "markdown",
   "metadata": {},
   "source": [
    "Run the model"
   ]
  },
  {
   "cell_type": "code",
   "execution_count": null,
   "metadata": {},
   "outputs": [],
   "source": [
    "m1 = set_regions()\n",
    "m1 = solve(m1)"
   ]
  },
  {
   "cell_type": "markdown",
   "metadata": {},
   "source": [
    "Plot the map"
   ]
  },
  {
   "cell_type": "code",
   "execution_count": null,
   "metadata": {
    "scrolled": false
   },
   "outputs": [],
   "source": [
    "plot_map(get_colors_connected(m1))"
   ]
  },
  {
   "cell_type": "markdown",
   "metadata": {},
   "source": [
    "Plot fake data"
   ]
  },
  {
   "cell_type": "code",
   "execution_count": null,
   "metadata": {},
   "outputs": [],
   "source": [
    "fig, ax = plt.subplots(1, 1)\n",
    "ax.axis('off')\n",
    "fig.set_size_inches(10, 10)\n",
    "nx.draw_networkx(g, node_color=get_colors_regions(m1), node_size=50, font_size=0, ax=ax)\n",
    "plt.show()"
   ]
  },
  {
   "cell_type": "code",
   "execution_count": null,
   "metadata": {},
   "outputs": [],
   "source": []
  },
  {
   "cell_type": "code",
   "execution_count": null,
   "metadata": {},
   "outputs": [],
   "source": []
  }
 ],
 "metadata": {
  "kernelspec": {
   "display_name": "Python 3",
   "language": "python",
   "name": "python3"
  },
  "language_info": {
   "codemirror_mode": {
    "name": "ipython",
    "version": 3
   },
   "file_extension": ".py",
   "mimetype": "text/x-python",
   "name": "python",
   "nbconvert_exporter": "python",
   "pygments_lexer": "ipython3",
   "version": "3.8.1"
  }
 },
 "nbformat": 4,
 "nbformat_minor": 2
}
